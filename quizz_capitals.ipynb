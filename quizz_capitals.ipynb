{
 "cells": [
  {
   "cell_type": "code",
   "execution_count": null,
   "metadata": {},
   "outputs": [],
   "source": [
    "print(\"Here you have our quiz !\")\n",
    "\n",
    "Q1=[1,\"What is the capital of Austrazlia ?  --> 1. Sidney  / 2. Canberra / 3. Brisbane \"]\n",
    "Q2=[2,\"What is the capital of Thailand ?  --> 1. Bangkok  / 2. Pekin / 3. Phuket \"]\n",
    "Q3=[3,\"What is the capital of Canada ?    --> 1. Monrtreal  / 2. Torronto / 3. Ottawa\"]\n",
    "A1=2\n",
    "A2=1\n",
    "A3=3\n",
    "i=1\n",
    "chance=0\n",
    "check_fail=0\n",
    "\n",
    "for i in range (1,4):\n",
    "    print(\"------------------------\")\n",
    "    print(f\"Question {i}:\")\n",
    "    print(\"------------------------\")\n",
    "    if i==1 :\n",
    "        while chance!=3:\n",
    "                chance+=1\n",
    "                answer=int(input(Q1[1]))\n",
    "\n",
    "                if answer ==A1:\n",
    "                    print(\"Good job! This is the right answer\")\n",
    "                    break\n",
    "                else:\n",
    "                    print(\"Too bad! That is not the correct answer\")\n",
    "                    check_fail+=1\n",
    "\n",
    "    if i==2 :\n",
    "            while chance!=3:\n",
    "                    chance+=1\n",
    "                    answer=int(input(Q2[1]))\n",
    "\n",
    "                    if answer ==A2:\n",
    "                        print(\"Good job! This is the right answer\")\n",
    "                        break\n",
    "                    else:\n",
    "                        print(\"Too bad! That is not the correct answer\")\n",
    "                        check_fail+=1\n",
    "\n",
    "    if i==3 :\n",
    "            while chance!=3:\n",
    "                    chance+=1\n",
    "                    answer=int(input(Q3[1]))\n",
    "\n",
    "                    if answer ==A3:\n",
    "                        print(\"Good job! This is the right answer\")\n",
    "                        break\n",
    "                    else:\n",
    "                        print(\"Too bad! That is not the correct answer\")\n",
    "                        check_fail+=1\n",
    "\n",
    "    if check_fail ==3:\n",
    "        print(\"Too bad! You lost the game !\")\n",
    "        break\n",
    "    else:\n",
    "        i+=1\n",
    "        print(i)\n",
    "        check_fail=0\n",
    "        chance=0\n"
   ]
  }
 ],
 "metadata": {
  "kernelspec": {
   "display_name": "Python 3",
   "language": "python",
   "name": "python3"
  },
  "language_info": {
   "codemirror_mode": {
    "name": "ipython",
    "version": 3
   },
   "file_extension": ".py",
   "mimetype": "text/x-python",
   "name": "python",
   "nbconvert_exporter": "python",
   "pygments_lexer": "ipython3",
   "version": "3.11.2"
  },
  "orig_nbformat": 4,
  "vscode": {
   "interpreter": {
    "hash": "80a71c6d6069aabe79520de0d3825a36d9c279a912de6de59ca84c7ce8663bb3"
   }
  }
 },
 "nbformat": 4,
 "nbformat_minor": 2
}
